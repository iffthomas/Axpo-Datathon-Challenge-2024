{
 "cells": [
  {
   "cell_type": "code",
   "execution_count": 147,
   "metadata": {},
   "outputs": [],
   "source": [
    "import darts\n",
    "import pandas as pd\n",
    "import wapi\n",
    "from darts.models.forecasting.rnn_model import RNNModel\n",
    "from darts import TimeSeries\n",
    "from tqdm import tqdm\n",
    "from darts.metrics import mape, mase, mae\n",
    "from matplotlib import pyplot as plt"
   ]
  },
  {
   "cell_type": "code",
   "execution_count": 148,
   "metadata": {},
   "outputs": [],
   "source": [
    "temperature = [\n",
    "        \"tt ch grimsel test °c cet h s\",\n",
    "        \"tt ch adelboden test °c cet h s\",\n",
    "        \"tt ch geneve test °c cet h s\",\n",
    "        \"tt ch davos test °c cet h s\",\n",
    "        \"tt ch engelberg test °c cet h s\",\n",
    "        \"tt ch bern test °c cet h s\",\n",
    "        \"tt ch lugano test °c cet h s\",\n",
    "        \"tt ch zurich test °c cet h s\",\n",
    "        \"tt ch samedan test °c cet h s\",\n",
    "]\n",
    "\n",
    "windspeed = [\n",
    "    'ff ch grimsel test m/s cet h s',\n",
    "    'ff ch adelboden test m/s cet h s',\n",
    "    'ff ch geneve test m/s cet h s',\n",
    "    'ff ch davos test m/s cet h s',\n",
    "    'ff ch engelberg test m/s cet h s',\n",
    "    'ff ch bern test m/s cet h s',\n",
    "    'ff ch lugano test m/s cet h s',\n",
    "    'ff ch zurich test m/s cet h s',\n",
    "    'ff ch samedan test m/s cet h s'\n",
    "]\n",
    "\n",
    "cloud_coverage = [\n",
    "    'cc ch grimsel test % cet h s',\n",
    "    'cc ch adelboden test % cet h s',\n",
    "    'cc ch geneve test % cet h s',\n",
    "    'cc ch davos test % cet h s',\n",
    "    'cc ch engelberg test % cet h s',\n",
    "    'cc ch bern test % cet h s',\n",
    "    'cc ch lugano test % cet h s',\n",
    "    'cc ch zurich test % cet h s',\n",
    "    'cc ch samedan test % cet h s'\n",
    "]"
   ]
  },
  {
   "cell_type": "code",
   "execution_count": 149,
   "metadata": {},
   "outputs": [],
   "source": [
    "features = [temperature, windspeed, cloud_coverage]"
   ]
  },
  {
   "cell_type": "code",
   "execution_count": 150,
   "metadata": {},
   "outputs": [
    {
     "name": "stderr",
     "output_type": "stream",
     "text": []
    },
    {
     "name": "stdout",
     "output_type": "stream",
     "text": [
      "tt ch grimsel test °c cet h s\n"
     ]
    },
    {
     "name": "stderr",
     "output_type": "stream",
     "text": [
      "c:\\Users\\cleme\\anaconda3\\envs\\PAI\\envs\\ML\\Lib\\site-packages\\wapi\\util.py:135: FutureWarning: 'H' is deprecated and will be removed in a future version, please use 'h' instead.\n",
      "  return res.asfreq(self._map_freq(self.frequency))\n"
     ]
    },
    {
     "name": "stdout",
     "output_type": "stream",
     "text": [
      "tt ch adelboden test °c cet h s\n"
     ]
    },
    {
     "name": "stderr",
     "output_type": "stream",
     "text": []
    },
    {
     "name": "stdout",
     "output_type": "stream",
     "text": [
      "tt ch geneve test °c cet h s\n"
     ]
    },
    {
     "name": "stderr",
     "output_type": "stream",
     "text": []
    },
    {
     "name": "stdout",
     "output_type": "stream",
     "text": [
      "tt ch davos test °c cet h s\n"
     ]
    },
    {
     "name": "stderr",
     "output_type": "stream",
     "text": []
    },
    {
     "name": "stdout",
     "output_type": "stream",
     "text": [
      "tt ch engelberg test °c cet h s\n"
     ]
    },
    {
     "name": "stderr",
     "output_type": "stream",
     "text": []
    },
    {
     "name": "stdout",
     "output_type": "stream",
     "text": [
      "tt ch bern test °c cet h s\n"
     ]
    },
    {
     "name": "stderr",
     "output_type": "stream",
     "text": []
    },
    {
     "name": "stdout",
     "output_type": "stream",
     "text": [
      "tt ch lugano test °c cet h s\n"
     ]
    },
    {
     "name": "stderr",
     "output_type": "stream",
     "text": []
    },
    {
     "name": "stdout",
     "output_type": "stream",
     "text": [
      "tt ch zurich test °c cet h s\n"
     ]
    },
    {
     "name": "stderr",
     "output_type": "stream",
     "text": []
    },
    {
     "name": "stdout",
     "output_type": "stream",
     "text": [
      "tt ch samedan test °c cet h s\n"
     ]
    },
    {
     "name": "stderr",
     "output_type": "stream",
     "text": [
      "100%|██████████| 9/9 [00:21<00:00,  2.37s/it]\n"
     ]
    },
    {
     "name": "stdout",
     "output_type": "stream",
     "text": [
      "ff ch grimsel test m/s cet h s\n"
     ]
    },
    {
     "name": "stderr",
     "output_type": "stream",
     "text": [
      "c:\\Users\\cleme\\anaconda3\\envs\\PAI\\envs\\ML\\Lib\\site-packages\\wapi\\util.py:135: FutureWarning: 'H' is deprecated and will be removed in a future version, please use 'h' instead.\n",
      "  return res.asfreq(self._map_freq(self.frequency))\n"
     ]
    },
    {
     "name": "stdout",
     "output_type": "stream",
     "text": [
      "ff ch adelboden test m/s cet h s\n"
     ]
    },
    {
     "name": "stderr",
     "output_type": "stream",
     "text": []
    },
    {
     "name": "stdout",
     "output_type": "stream",
     "text": [
      "ff ch geneve test m/s cet h s\n"
     ]
    },
    {
     "name": "stderr",
     "output_type": "stream",
     "text": []
    },
    {
     "name": "stdout",
     "output_type": "stream",
     "text": [
      "ff ch davos test m/s cet h s\n"
     ]
    },
    {
     "name": "stderr",
     "output_type": "stream",
     "text": []
    },
    {
     "name": "stdout",
     "output_type": "stream",
     "text": [
      "ff ch engelberg test m/s cet h s\n"
     ]
    },
    {
     "name": "stderr",
     "output_type": "stream",
     "text": []
    },
    {
     "name": "stdout",
     "output_type": "stream",
     "text": [
      "ff ch bern test m/s cet h s\n"
     ]
    },
    {
     "name": "stderr",
     "output_type": "stream",
     "text": []
    },
    {
     "name": "stdout",
     "output_type": "stream",
     "text": [
      "ff ch lugano test m/s cet h s\n"
     ]
    },
    {
     "name": "stderr",
     "output_type": "stream",
     "text": []
    },
    {
     "name": "stdout",
     "output_type": "stream",
     "text": [
      "ff ch zurich test m/s cet h s\n"
     ]
    },
    {
     "name": "stderr",
     "output_type": "stream",
     "text": []
    },
    {
     "name": "stdout",
     "output_type": "stream",
     "text": [
      "ff ch samedan test m/s cet h s\n"
     ]
    },
    {
     "name": "stderr",
     "output_type": "stream",
     "text": [
      "100%|██████████| 9/9 [00:21<00:00,  2.40s/it]\n"
     ]
    },
    {
     "name": "stdout",
     "output_type": "stream",
     "text": [
      "cc ch grimsel test % cet h s\n"
     ]
    },
    {
     "name": "stderr",
     "output_type": "stream",
     "text": [
      "c:\\Users\\cleme\\anaconda3\\envs\\PAI\\envs\\ML\\Lib\\site-packages\\wapi\\util.py:135: FutureWarning: 'H' is deprecated and will be removed in a future version, please use 'h' instead.\n",
      "  return res.asfreq(self._map_freq(self.frequency))\n"
     ]
    },
    {
     "name": "stdout",
     "output_type": "stream",
     "text": [
      "cc ch adelboden test % cet h s\n"
     ]
    },
    {
     "name": "stderr",
     "output_type": "stream",
     "text": []
    },
    {
     "name": "stdout",
     "output_type": "stream",
     "text": [
      "cc ch geneve test % cet h s\n"
     ]
    },
    {
     "name": "stderr",
     "output_type": "stream",
     "text": []
    },
    {
     "name": "stdout",
     "output_type": "stream",
     "text": [
      "cc ch davos test % cet h s\n"
     ]
    },
    {
     "name": "stderr",
     "output_type": "stream",
     "text": []
    },
    {
     "name": "stdout",
     "output_type": "stream",
     "text": [
      "cc ch engelberg test % cet h s\n"
     ]
    },
    {
     "name": "stderr",
     "output_type": "stream",
     "text": []
    },
    {
     "name": "stdout",
     "output_type": "stream",
     "text": [
      "cc ch bern test % cet h s\n"
     ]
    },
    {
     "name": "stderr",
     "output_type": "stream",
     "text": []
    },
    {
     "name": "stdout",
     "output_type": "stream",
     "text": [
      "cc ch lugano test % cet h s\n"
     ]
    },
    {
     "name": "stderr",
     "output_type": "stream",
     "text": []
    },
    {
     "name": "stdout",
     "output_type": "stream",
     "text": [
      "cc ch zurich test % cet h s\n"
     ]
    },
    {
     "name": "stderr",
     "output_type": "stream",
     "text": []
    },
    {
     "name": "stdout",
     "output_type": "stream",
     "text": [
      "cc ch samedan test % cet h s\n"
     ]
    },
    {
     "name": "stderr",
     "output_type": "stream",
     "text": [
      "100%|██████████| 9/9 [00:19<00:00,  2.19s/it]\n"
     ]
    },
    {
     "data": {
      "text/html": [
       "<div>\n",
       "<style scoped>\n",
       "    .dataframe tbody tr th:only-of-type {\n",
       "        vertical-align: middle;\n",
       "    }\n",
       "\n",
       "    .dataframe tbody tr th {\n",
       "        vertical-align: top;\n",
       "    }\n",
       "\n",
       "    .dataframe thead th {\n",
       "        text-align: right;\n",
       "    }\n",
       "</style>\n",
       "<table border=\"1\" class=\"dataframe\">\n",
       "  <thead>\n",
       "    <tr style=\"text-align: right;\">\n",
       "      <th></th>\n",
       "      <th>0</th>\n",
       "      <th>1</th>\n",
       "      <th>2</th>\n",
       "    </tr>\n",
       "  </thead>\n",
       "  <tbody>\n",
       "    <tr>\n",
       "      <th>2015-01-01 00:00:00+01:00</th>\n",
       "      <td>-7.544444</td>\n",
       "      <td>1.144444</td>\n",
       "      <td>27.833333</td>\n",
       "    </tr>\n",
       "    <tr>\n",
       "      <th>2015-01-01 01:00:00+01:00</th>\n",
       "      <td>-7.677778</td>\n",
       "      <td>1.066667</td>\n",
       "      <td>25.644444</td>\n",
       "    </tr>\n",
       "    <tr>\n",
       "      <th>2015-01-01 02:00:00+01:00</th>\n",
       "      <td>-7.722222</td>\n",
       "      <td>0.977778</td>\n",
       "      <td>23.922222</td>\n",
       "    </tr>\n",
       "    <tr>\n",
       "      <th>2015-01-01 03:00:00+01:00</th>\n",
       "      <td>-7.822222</td>\n",
       "      <td>0.944444</td>\n",
       "      <td>22.144444</td>\n",
       "    </tr>\n",
       "    <tr>\n",
       "      <th>2015-01-01 04:00:00+01:00</th>\n",
       "      <td>-7.855556</td>\n",
       "      <td>0.944444</td>\n",
       "      <td>20.311111</td>\n",
       "    </tr>\n",
       "    <tr>\n",
       "      <th>...</th>\n",
       "      <td>...</td>\n",
       "      <td>...</td>\n",
       "      <td>...</td>\n",
       "    </tr>\n",
       "    <tr>\n",
       "      <th>2020-12-04 19:00:00+01:00</th>\n",
       "      <td>-3.688889</td>\n",
       "      <td>1.411111</td>\n",
       "      <td>96.722222</td>\n",
       "    </tr>\n",
       "    <tr>\n",
       "      <th>2020-12-04 20:00:00+01:00</th>\n",
       "      <td>-3.644444</td>\n",
       "      <td>1.322222</td>\n",
       "      <td>97.611111</td>\n",
       "    </tr>\n",
       "    <tr>\n",
       "      <th>2020-12-04 21:00:00+01:00</th>\n",
       "      <td>-3.688889</td>\n",
       "      <td>1.355556</td>\n",
       "      <td>98.777778</td>\n",
       "    </tr>\n",
       "    <tr>\n",
       "      <th>2020-12-04 22:00:00+01:00</th>\n",
       "      <td>-3.722222</td>\n",
       "      <td>1.444444</td>\n",
       "      <td>97.744444</td>\n",
       "    </tr>\n",
       "    <tr>\n",
       "      <th>2020-12-04 23:00:00+01:00</th>\n",
       "      <td>-3.577778</td>\n",
       "      <td>1.533333</td>\n",
       "      <td>95.222222</td>\n",
       "    </tr>\n",
       "  </tbody>\n",
       "</table>\n",
       "<p>51960 rows × 3 columns</p>\n",
       "</div>"
      ],
      "text/plain": [
       "                                  0         1          2\n",
       "2015-01-01 00:00:00+01:00 -7.544444  1.144444  27.833333\n",
       "2015-01-01 01:00:00+01:00 -7.677778  1.066667  25.644444\n",
       "2015-01-01 02:00:00+01:00 -7.722222  0.977778  23.922222\n",
       "2015-01-01 03:00:00+01:00 -7.822222  0.944444  22.144444\n",
       "2015-01-01 04:00:00+01:00 -7.855556  0.944444  20.311111\n",
       "...                             ...       ...        ...\n",
       "2020-12-04 19:00:00+01:00 -3.688889  1.411111  96.722222\n",
       "2020-12-04 20:00:00+01:00 -3.644444  1.322222  97.611111\n",
       "2020-12-04 21:00:00+01:00 -3.688889  1.355556  98.777778\n",
       "2020-12-04 22:00:00+01:00 -3.722222  1.444444  97.744444\n",
       "2020-12-04 23:00:00+01:00 -3.577778  1.533333  95.222222\n",
       "\n",
       "[51960 rows x 3 columns]"
      ]
     },
     "execution_count": 150,
     "metadata": {},
     "output_type": "execute_result"
    }
   ],
   "source": [
    "session = wapi.Session(client_id=\"yf24xCq95gJkorzBWb16GAP4eOxQNVZR\", client_secret=\"sWkUzN3a8uC8QDu1V64bH3bAtCdduf74Xh8JnT_OrYZf_x2ObWdiNkOga59cB2C5Q9us9tW0bg4zFg4BfeOR7mRzui3ROZ1QHI0i\")\n",
    "\n",
    "mean_features = []\n",
    "\n",
    "for feature in features:\n",
    "\n",
    "    dfs = []\n",
    "\n",
    "    for c in tqdm(feature):\n",
    "        print(c)\n",
    "        curve = session.get_curve(name=c)\n",
    "        dfs.append(curve.get_data(data_from= '2015-01-01', data_to='2020-12-05', frequency='h', function =\"AVERAGE\").to_pandas())\n",
    "    \n",
    "    mean = pd.concat(dfs, axis=1).mean(axis=1)\n",
    "\n",
    "    mean_features.append(mean)\n",
    "\n",
    "pd.concat(mean_features, axis=1)"
   ]
  },
  {
   "cell_type": "code",
   "execution_count": 151,
   "metadata": {},
   "outputs": [
    {
     "name": "stderr",
     "output_type": "stream",
     "text": [
      "c:\\Users\\cleme\\anaconda3\\envs\\PAI\\envs\\ML\\Lib\\site-packages\\wapi\\util.py:135: FutureWarning: 'H' is deprecated and will be removed in a future version, please use 'h' instead.\n",
      "  return res.asfreq(self._map_freq(self.frequency))\n"
     ]
    }
   ],
   "source": [
    "normal_pv_production = session.get_curve(name='pro ch spv mwh/h cet min15 n')\n",
    "normal_pv_production = normal_pv_production.get_data(data_from= '2015-01-01', data_to='2020-12-05', frequency='h', function =\"AVERAGE\").to_pandas()\n",
    "\n",
    "target = session.get_curve(name='pro ch spv mwh/h cet min15 a')\n",
    "target = target.get_data(data_from= '2015-01-01', data_to='2020-12-05', frequency='h', function =\"AVERAGE\").to_pandas()"
   ]
  },
  {
   "cell_type": "code",
   "execution_count": 153,
   "metadata": {},
   "outputs": [
    {
     "data": {
      "text/html": [
       "<div>\n",
       "<style scoped>\n",
       "    .dataframe tbody tr th:only-of-type {\n",
       "        vertical-align: middle;\n",
       "    }\n",
       "\n",
       "    .dataframe tbody tr th {\n",
       "        vertical-align: top;\n",
       "    }\n",
       "\n",
       "    .dataframe thead th {\n",
       "        text-align: right;\n",
       "    }\n",
       "</style>\n",
       "<table border=\"1\" class=\"dataframe\">\n",
       "  <thead>\n",
       "    <tr style=\"text-align: right;\">\n",
       "      <th></th>\n",
       "      <th>temperature</th>\n",
       "      <th>windspeed</th>\n",
       "      <th>cloud_coverage</th>\n",
       "      <th>normal</th>\n",
       "      <th>target</th>\n",
       "    </tr>\n",
       "  </thead>\n",
       "  <tbody>\n",
       "    <tr>\n",
       "      <th>2015-01-01 00:00:00+01:00</th>\n",
       "      <td>-7.544444</td>\n",
       "      <td>1.144444</td>\n",
       "      <td>27.833333</td>\n",
       "      <td>0.000000</td>\n",
       "      <td>0.0</td>\n",
       "    </tr>\n",
       "    <tr>\n",
       "      <th>2015-01-01 01:00:00+01:00</th>\n",
       "      <td>-7.677778</td>\n",
       "      <td>1.066667</td>\n",
       "      <td>25.644444</td>\n",
       "      <td>0.000000</td>\n",
       "      <td>0.0</td>\n",
       "    </tr>\n",
       "    <tr>\n",
       "      <th>2015-01-01 02:00:00+01:00</th>\n",
       "      <td>-7.722222</td>\n",
       "      <td>0.977778</td>\n",
       "      <td>23.922222</td>\n",
       "      <td>0.000000</td>\n",
       "      <td>0.0</td>\n",
       "    </tr>\n",
       "    <tr>\n",
       "      <th>2015-01-01 03:00:00+01:00</th>\n",
       "      <td>-7.822222</td>\n",
       "      <td>0.944444</td>\n",
       "      <td>22.144444</td>\n",
       "      <td>0.000000</td>\n",
       "      <td>0.0</td>\n",
       "    </tr>\n",
       "    <tr>\n",
       "      <th>2015-01-01 04:00:00+01:00</th>\n",
       "      <td>-7.855556</td>\n",
       "      <td>0.944444</td>\n",
       "      <td>20.311111</td>\n",
       "      <td>0.000000</td>\n",
       "      <td>0.0</td>\n",
       "    </tr>\n",
       "    <tr>\n",
       "      <th>...</th>\n",
       "      <td>...</td>\n",
       "      <td>...</td>\n",
       "      <td>...</td>\n",
       "      <td>...</td>\n",
       "      <td>...</td>\n",
       "    </tr>\n",
       "    <tr>\n",
       "      <th>2020-12-04 19:00:00+01:00</th>\n",
       "      <td>-3.688889</td>\n",
       "      <td>1.411111</td>\n",
       "      <td>96.722222</td>\n",
       "      <td>0.008839</td>\n",
       "      <td>0.0</td>\n",
       "    </tr>\n",
       "    <tr>\n",
       "      <th>2020-12-04 20:00:00+01:00</th>\n",
       "      <td>-3.644444</td>\n",
       "      <td>1.322222</td>\n",
       "      <td>97.611111</td>\n",
       "      <td>0.000158</td>\n",
       "      <td>0.0</td>\n",
       "    </tr>\n",
       "    <tr>\n",
       "      <th>2020-12-04 21:00:00+01:00</th>\n",
       "      <td>-3.688889</td>\n",
       "      <td>1.355556</td>\n",
       "      <td>98.777778</td>\n",
       "      <td>0.000000</td>\n",
       "      <td>0.0</td>\n",
       "    </tr>\n",
       "    <tr>\n",
       "      <th>2020-12-04 22:00:00+01:00</th>\n",
       "      <td>-3.722222</td>\n",
       "      <td>1.444444</td>\n",
       "      <td>97.744444</td>\n",
       "      <td>0.000000</td>\n",
       "      <td>0.0</td>\n",
       "    </tr>\n",
       "    <tr>\n",
       "      <th>2020-12-04 23:00:00+01:00</th>\n",
       "      <td>-3.577778</td>\n",
       "      <td>1.533333</td>\n",
       "      <td>95.222222</td>\n",
       "      <td>0.000000</td>\n",
       "      <td>0.0</td>\n",
       "    </tr>\n",
       "  </tbody>\n",
       "</table>\n",
       "<p>51960 rows × 5 columns</p>\n",
       "</div>"
      ],
      "text/plain": [
       "                           temperature  windspeed  cloud_coverage    normal  \\\n",
       "2015-01-01 00:00:00+01:00    -7.544444   1.144444       27.833333  0.000000   \n",
       "2015-01-01 01:00:00+01:00    -7.677778   1.066667       25.644444  0.000000   \n",
       "2015-01-01 02:00:00+01:00    -7.722222   0.977778       23.922222  0.000000   \n",
       "2015-01-01 03:00:00+01:00    -7.822222   0.944444       22.144444  0.000000   \n",
       "2015-01-01 04:00:00+01:00    -7.855556   0.944444       20.311111  0.000000   \n",
       "...                                ...        ...             ...       ...   \n",
       "2020-12-04 19:00:00+01:00    -3.688889   1.411111       96.722222  0.008839   \n",
       "2020-12-04 20:00:00+01:00    -3.644444   1.322222       97.611111  0.000158   \n",
       "2020-12-04 21:00:00+01:00    -3.688889   1.355556       98.777778  0.000000   \n",
       "2020-12-04 22:00:00+01:00    -3.722222   1.444444       97.744444  0.000000   \n",
       "2020-12-04 23:00:00+01:00    -3.577778   1.533333       95.222222  0.000000   \n",
       "\n",
       "                           target  \n",
       "2015-01-01 00:00:00+01:00     0.0  \n",
       "2015-01-01 01:00:00+01:00     0.0  \n",
       "2015-01-01 02:00:00+01:00     0.0  \n",
       "2015-01-01 03:00:00+01:00     0.0  \n",
       "2015-01-01 04:00:00+01:00     0.0  \n",
       "...                           ...  \n",
       "2020-12-04 19:00:00+01:00     0.0  \n",
       "2020-12-04 20:00:00+01:00     0.0  \n",
       "2020-12-04 21:00:00+01:00     0.0  \n",
       "2020-12-04 22:00:00+01:00     0.0  \n",
       "2020-12-04 23:00:00+01:00     0.0  \n",
       "\n",
       "[51960 rows x 5 columns]"
      ]
     },
     "execution_count": 153,
     "metadata": {},
     "output_type": "execute_result"
    }
   ],
   "source": [
    "dataset = pd.concat(mean_features + [normal_pv_production, target], axis=1)\n",
    "dataset.columns = ['temperature', 'windspeed', 'cloud_coverage', 'normal', 'target']\n",
    "dataset"
   ]
  },
  {
   "cell_type": "code",
   "execution_count": 154,
   "metadata": {},
   "outputs": [],
   "source": [
    "def change_time_change(pd_dataframe):\n",
    "    #make the index as a column called timestep\n",
    "    pd_dataframe['timestamp'] = pd_dataframe.index\n",
    "    pd_dataframe = pd_dataframe.reset_index(drop=True)\n",
    "\n",
    "    pd_dataframe['timestamp'] = pd.to_datetime(pd_dataframe.timestamp).dt.tz_localize(None)\n",
    "\n",
    "    pd_dataframe['time_diff'] = pd_dataframe['timestamp'].diff()\n",
    "    indexes_not_hourly = pd_dataframe[pd_dataframe[\"time_diff\"] != pd.Timedelta('0 days 01:00:00')]\n",
    "    indexes = indexes_not_hourly.index.tolist()\n",
    "\n",
    "    shifted_df = pd_dataframe.copy()\n",
    "\n",
    "    for i in range(len(indexes)-1):\n",
    "        index = indexes[i]\n",
    "        end_index = indexes [i+1] if i+1 < len(indexes) else len(pd_dataframe)\n",
    "\n",
    "        end_index -= 1\n",
    "\n",
    "        if pd_dataframe.loc[index][\"timestamp\"].month == 3:\n",
    "\n",
    "\n",
    "            #shift from start_index to end_index the datetime by 1 hour and delete the where the time_diff is 0 days 00:00:00\n",
    "\n",
    "            shifted_df.loc[index:end_index, 'timestamp'] = pd_dataframe.loc[index:end_index, 'timestamp'] - pd.Timedelta('1 hours')\n",
    "\n",
    "    shifted_df_numeric = shifted_df.select_dtypes(include=['float64', 'int64'])\n",
    "\n",
    "    return TimeSeries.from_dataframe(shifted_df, \"timestamp\", shifted_df_numeric.columns, fill_missing_dates=True, freq='H')"
   ]
  },
  {
   "cell_type": "code",
   "execution_count": 155,
   "metadata": {},
   "outputs": [
    {
     "name": "stderr",
     "output_type": "stream",
     "text": [
      "c:\\Users\\cleme\\anaconda3\\envs\\PAI\\envs\\ML\\Lib\\site-packages\\darts\\timeseries.py:4736: FutureWarning: 'H' is deprecated and will be removed in a future version, please use 'h' instead.\n",
      "  resampled_time_index = resampled_time_index.asfreq(freq)\n"
     ]
    }
   ],
   "source": [
    "dataset = change_time_change(dataset)"
   ]
  },
  {
   "cell_type": "code",
   "execution_count": 127,
   "metadata": {},
   "outputs": [],
   "source": [
    "from darts.dataprocessing.transformers import (\n",
    "    Scaler,\n",
    "    MissingValuesFiller,\n",
    "    Mapper,\n",
    "    InvertibleMapper,\n",
    ")\n",
    "\n",
    "scaler = Scaler()\n",
    "rescaled = scaler.fit_transform(dataset)"
   ]
  },
  {
   "cell_type": "code",
   "execution_count": 128,
   "metadata": {},
   "outputs": [],
   "source": [
    "train, val = rescaled.split_after(0.8)\n",
    "train_target, val_target = train.univariate_component(3), val.univariate_component(3)\n",
    "train_coev, val_coev = train.drop_columns(\"target\"), val.drop_columns(\"target\")\n",
    "\n",
    "test_coev = rescaled.drop_columns(\"target\")\n",
    "test_series = rescaled.univariate_component(3)"
   ]
  },
  {
   "cell_type": "code",
   "execution_count": 179,
   "metadata": {},
   "outputs": [
    {
     "ename": "ModuleNotFoundError",
     "evalue": "No module named 'lightgbm'",
     "output_type": "error",
     "traceback": [
      "\u001b[1;31m---------------------------------------------------------------------------\u001b[0m",
      "\u001b[1;31mModuleNotFoundError\u001b[0m                       Traceback (most recent call last)",
      "Cell \u001b[1;32mIn[179], line 2\u001b[0m\n\u001b[0;32m      1\u001b[0m \u001b[38;5;28;01mfrom\u001b[39;00m \u001b[38;5;21;01mdarts\u001b[39;00m\u001b[38;5;21;01m.\u001b[39;00m\u001b[38;5;21;01mmodels\u001b[39;00m \u001b[38;5;28;01mimport\u001b[39;00m RegressionModel\n\u001b[1;32m----> 2\u001b[0m \u001b[38;5;28;01mfrom\u001b[39;00m \u001b[38;5;21;01mdarts\u001b[39;00m\u001b[38;5;21;01m.\u001b[39;00m\u001b[38;5;21;01mmodels\u001b[39;00m\u001b[38;5;21;01m.\u001b[39;00m\u001b[38;5;21;01mforecasting\u001b[39;00m\u001b[38;5;21;01m.\u001b[39;00m\u001b[38;5;21;01mlgbm\u001b[39;00m \u001b[38;5;28;01mimport\u001b[39;00m LightGBMModel\n\u001b[0;32m      4\u001b[0m model \u001b[38;5;241m=\u001b[39m LightGMBModel(\n\u001b[0;32m      5\u001b[0m     lags\u001b[38;5;241m=\u001b[39m\u001b[38;5;241m12\u001b[39m,\n\u001b[0;32m      6\u001b[0m     lags_past_covariates\u001b[38;5;241m=\u001b[39m\u001b[38;5;241m12\u001b[39m,\n\u001b[0;32m      7\u001b[0m     output_chunk_length\u001b[38;5;241m=\u001b[39m\u001b[38;5;241m6\u001b[39m,\n\u001b[0;32m      8\u001b[0m )\n\u001b[0;32m      9\u001b[0m model\u001b[38;5;241m.\u001b[39mfit(train_target, past_covariates\u001b[38;5;241m=\u001b[39mtrain_coev)\n",
      "File \u001b[1;32mc:\\Users\\cleme\\anaconda3\\envs\\PAI\\envs\\ML\\Lib\\site-packages\\darts\\models\\forecasting\\lgbm.py:15\u001b[0m\n\u001b[0;32m      1\u001b[0m \u001b[38;5;124;03m\"\"\"\u001b[39;00m\n\u001b[0;32m      2\u001b[0m \u001b[38;5;124;03mLightGBM Model\u001b[39;00m\n\u001b[0;32m      3\u001b[0m \u001b[38;5;124;03m--------------\u001b[39;00m\n\u001b[1;32m   (...)\u001b[0m\n\u001b[0;32m     10\u001b[0m \u001b[38;5;124;03mhttps://github.com/unit8co/darts/blob/master/INSTALL.md\u001b[39;00m\n\u001b[0;32m     11\u001b[0m \u001b[38;5;124;03m\"\"\"\u001b[39;00m\n\u001b[0;32m     13\u001b[0m \u001b[38;5;28;01mfrom\u001b[39;00m \u001b[38;5;21;01mtyping\u001b[39;00m \u001b[38;5;28;01mimport\u001b[39;00m List, Optional, Sequence, Union\n\u001b[1;32m---> 15\u001b[0m \u001b[38;5;28;01mimport\u001b[39;00m \u001b[38;5;21;01mlightgbm\u001b[39;00m \u001b[38;5;28;01mas\u001b[39;00m \u001b[38;5;21;01mlgb\u001b[39;00m\n\u001b[0;32m     16\u001b[0m \u001b[38;5;28;01mimport\u001b[39;00m \u001b[38;5;21;01mnumpy\u001b[39;00m \u001b[38;5;28;01mas\u001b[39;00m \u001b[38;5;21;01mnp\u001b[39;00m\n\u001b[0;32m     18\u001b[0m \u001b[38;5;28;01mfrom\u001b[39;00m \u001b[38;5;21;01mdarts\u001b[39;00m\u001b[38;5;21;01m.\u001b[39;00m\u001b[38;5;21;01mlogging\u001b[39;00m \u001b[38;5;28;01mimport\u001b[39;00m get_logger\n",
      "\u001b[1;31mModuleNotFoundError\u001b[0m: No module named 'lightgbm'"
     ]
    }
   ],
   "source": [
    "from darts.models import RegressionModel\n",
    "from darts.models.forecasting.lgbm import LightGBMModel\n",
    "\n",
    "model = LightGMBModel(\n",
    "    lags=12,\n",
    "    lags_past_covariates=12,\n",
    "    output_chunk_length=6,\n",
    ")\n",
    "model.fit(train_target, past_covariates=train_coev)"
   ]
  },
  {
   "cell_type": "code",
   "execution_count": 174,
   "metadata": {},
   "outputs": [
    {
     "name": "stderr",
     "output_type": "stream",
     "text": [
      "`predict()` was called with `n > output_chunk_length`: using auto-regression to forecast the values after `output_chunk_length` points. The model will access `(n - output_chunk_length)` future values of your `past_covariates` (relative to the first predicted time step). To hide this warning, set `show_warnings=False`.\n"
     ]
    }
   ],
   "source": [
    "predictions = model.predict(len(val), series=train_target, past_covariates=test_coev)"
   ]
  },
  {
   "cell_type": "code",
   "execution_count": 175,
   "metadata": {},
   "outputs": [
    {
     "name": "stdout",
     "output_type": "stream",
     "text": [
      "5.5057092588968475\n"
     ]
    }
   ],
   "source": [
    "from darts.metrics import mape\n",
    "from darts.metrics import mase\n",
    "\n",
    "#score_reg = mase(val,pred_reg, train)\n",
    "score_xgb = mase(val['target'], predictions, train['target'])\n",
    "#print(score_reg)\n",
    "print(score_xgb)"
   ]
  },
  {
   "cell_type": "code",
   "execution_count": 132,
   "metadata": {},
   "outputs": [
    {
     "data": {
      "text/plain": [
       "<Axes: xlabel='timestamp'>"
      ]
     },
     "execution_count": 132,
     "metadata": {},
     "output_type": "execute_result"
    },
    {
     "data": {
      "image/png": "[encoded data removed]",
      "text/plain": [
       "<Figure size 640x480 with 1 Axes>"
      ]
     },
     "metadata": {},
     "output_type": "display_data"
    }
   ],
   "source": [
    "back_scaled = scaler.inverse_transform(val.drop_columns('target').concatenate(predictions, axis=1))\n",
    "back_scaled[-200:]['target'].plot(label='forecast', lw=3)\n",
    "scaler.inverse_transform(val)['target'][-200:].plot(label='actual')"
   ]
  },
  {
   "cell_type": "code",
   "execution_count": null,
   "metadata": {},
   "outputs": [],
   "source": []
  }
 ],
 "metadata": {
  "kernelspec": {
   "display_name": "ML",
   "language": "python",
   "name": "python3"
  },
  "language_info": {
   "codemirror_mode": {
    "name": "ipython",
    "version": 3
   },
   "file_extension": ".py",
   "mimetype": "text/x-python",
   "name": "python",
   "nbconvert_exporter": "python",
   "pygments_lexer": "ipython3",
   "version": "3.12.0"
  }
 },
 "nbformat": 4,
 "nbformat_minor": 2
}
