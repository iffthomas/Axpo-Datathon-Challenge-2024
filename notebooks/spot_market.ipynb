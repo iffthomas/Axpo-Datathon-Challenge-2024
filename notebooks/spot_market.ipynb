{
 "cells": [
  {
   "cell_type": "code",
   "execution_count": null,
   "metadata": {},
   "outputs": [],
   "source": []
  },
  {
   "cell_type": "code",
   "execution_count": null,
   "metadata": {},
   "outputs": [],
   "source": []
  },
  {
   "cell_type": "code",
   "execution_count": null,
   "metadata": {},
   "outputs": [],
   "source": []
  },
  {
   "cell_type": "markdown",
   "metadata": {},
   "source": [
    "#Simple Model Training with Darts Library"
   ]
  },
  {
   "cell_type": "code",
   "execution_count": 2,
   "metadata": {},
   "outputs": [],
   "source": [
    "#work with darts library to create a time series forecast\n",
    "import darts\n",
    "import pandas as pd\n",
    "\n",
    "\n",
    "\n",
    "from darts.models.forecasting.rnn_model import RNNModel\n",
    "\n",
    "\n",
    "series = TimeSeries.from_dataframe(df, 'date', 'value')\n",
    "\n",
    "\n",
    "#types = [\"LSTM\", \"GRU\", \"RNN\"] available models\n",
    "choosen_model = \"LSTM\"\n",
    "chunk_length = 10\n",
    "hidden_dim = 256\n",
    "n_epochs = 100\n",
    "\n",
    "#rnn model \n",
    "model = RNNModel(model=choosen_model,input_chunk_length= chunk_length, hidden_dim = 256 ,n_rnn_layers=1, n_epochs=n_epochs, random_state=0) \n",
    "\n",
    "#fit the model\n",
    "\n",
    "\n",
    "model.fit(train)\n",
    "prediction = model.predict(len(val))\n",
    "\n",
    "\n",
    "import matplotlib.pyplot as plt\n",
    "series.plot(label='actual')\n",
    "prediction.plot(label='forecast', lw=3)\n",
    "plt.legend()\n",
    "\n"
   ]
  },
  {
   "cell_type": "code",
   "execution_count": null,
   "metadata": {},
   "outputs": [],
   "source": [
    "from darts.models"
   ]
  }
 ],
 "metadata": {
  "kernelspec": {
   "display_name": "Python 3",
   "language": "python",
   "name": "python3"
  },
  "language_info": {
   "codemirror_mode": {
    "name": "ipython",
    "version": 3
   },
   "file_extension": ".py",
   "mimetype": "text/x-python",
   "name": "python",
   "nbconvert_exporter": "python",
   "pygments_lexer": "ipython3",
   "version": "3.12.2"
  }
 },
 "nbformat": 4,
 "nbformat_minor": 2
}
