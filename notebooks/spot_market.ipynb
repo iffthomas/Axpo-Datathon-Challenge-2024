{
 "cells": [
  {
   "cell_type": "code",
   "execution_count": null,
   "metadata": {},
   "outputs": [],
   "source": []
  },
  {
   "cell_type": "code",
   "execution_count": null,
   "metadata": {},
   "outputs": [],
   "source": []
  },
  {
   "cell_type": "code",
   "execution_count": null,
   "metadata": {},
   "outputs": [],
   "source": []
  },
  {
   "cell_type": "markdown",
   "metadata": {},
   "source": [
    "# Simple Model Training with Darts Library"
   ]
  },
  {
   "cell_type": "code",
   "execution_count": 1,
   "metadata": {},
   "outputs": [
    {
     "name": "stderr",
     "output_type": "stream",
     "text": [
      "c:\\Users\\thoma\\AppData\\Local\\Programs\\Python\\Python312\\Lib\\site-packages\\statsforecast\\core.py:26: TqdmWarning: IProgress not found. Please update jupyter and ipywidgets. See https://ipywidgets.readthedocs.io/en/stable/user_install.html\n",
      "  from tqdm.autonotebook import tqdm\n"
     ]
    }
   ],
   "source": [
    "#work with darts library to create a time series forecast\n",
    "import darts\n",
    "import pandas as pd\n",
    "import wapi\n",
    "from darts.models.forecasting.rnn_model import RNNModel\n",
    "from darts import TimeSeries\n",
    "\n"
   ]
  },
  {
   "cell_type": "code",
   "execution_count": 2,
   "metadata": {},
   "outputs": [],
   "source": [
    "def assemble_dataframe(time_start, time_end, config_file_path='../apiconfig.ini'):\n",
    "    curve_names = [\n",
    "        \"pro ch spv mwh/h cet min15 a\",\n",
    "        \"pro ch spv mwh/h cet min15 n\",\n",
    "        \"pro it spv mwh/h cet min15 a\",\n",
    "        \"pro fr spv mwh/h cet min15 a\",\n",
    "        \"pro de spv mwh/h cet min15 a\",\n",
    "        \"pro at spv mwh/h cet min15 a\",\n",
    "        \"cap ch spv mw cet min15 a\",\n",
    "        \"tt ch grimsel test °c cet h s\",\n",
    "        \"tt ch adelboden test °c cet h s\",\n",
    "        \"tt ch geneve test °c cet h s\",\n",
    "        \"tt ch davos test °c cet h s\",\n",
    "        \"tt ch engelberg test °c cet h s\",\n",
    "        \"tt ch bern test °c cet h s\",\n",
    "        \"tt ch lugano test °c cet h s\",\n",
    "        \"tt ch zurich test °c cet h s\",\n",
    "        \"tt ch samedan test °c cet h s\",\n",
    "        \"cc ch con ec00 % cet min15 f\",\n",
    "        \"cc ch grimsel test % cet h s\",\n",
    "        \"cc ch adelboden test % cet h s\",\n",
    "        \"cc ch geneve test % cet h s\",\n",
    "        \"cc ch davos test % cet h s\",\n",
    "        \"cc ch engelberg test % cet h s\",\n",
    "        \"cc ch bern test % cet h s\",\n",
    "        \"cc ch lugano test % cet h s\",\n",
    "        \"cc ch zurich test % cet h s\",\n",
    "        \"cc ch samedan test % cet h s\",\n",
    "    ]\n",
    "    session = wapi.Session(config_file=config_file_path)\n",
    "    ch_total_prod_curve = session.get_curve(name=curve_names[0])\n",
    "    ts = ch_total_prod_curve.get_data(data_from= time_start, data_to=time_end, frequency='h', function =\"AVERAGE\")\n",
    "    return ts.to_pandas()"
   ]
  },
  {
   "cell_type": "code",
   "execution_count": 19,
   "metadata": {},
   "outputs": [
    {
     "name": "stderr",
     "output_type": "stream",
     "text": [
      "c:\\Users\\thoma\\AppData\\Local\\Programs\\Python\\Python312\\Lib\\site-packages\\wapi\\util.py:135: FutureWarning: 'H' is deprecated and will be removed in a future version, please use 'h' instead.\n",
      "  return res.asfreq(self._map_freq(self.frequency))\n"
     ]
    }
   ],
   "source": [
    "data = assemble_dataframe('2022-02-01', '2022-03-03')\n"
   ]
  },
  {
   "cell_type": "code",
   "execution_count": 20,
   "metadata": {},
   "outputs": [],
   "source": [
    "pd_dataframe = pd.DataFrame({'timestamp':data.index, 'value':data.values})\n",
    "pd_dataframe['timestamp'] = pd.to_datetime(pd_dataframe.timestamp).dt.tz_localize(None)\n",
    "series = TimeSeries.from_dataframe(pd_dataframe, \"timestamp\", \"value\")\n",
    "\n",
    "#localize tz from "
   ]
  },
  {
   "cell_type": "code",
   "execution_count": 23,
   "metadata": {},
   "outputs": [],
   "source": [
    "#select the training and validation 20% is validation and last points\n",
    "train, val = series.split_after(0.8)\n",
    "\n",
    "#types = [\"LSTM\", \"GRU\", \"RNN\"] available models\n",
    "choosen_model = \"LSTM\"\n",
    "chunk_length = 10\n",
    "hidden_dim = 256\n",
    "n_epochs = 100\n",
    "\n",
    "#rnn model \n",
    "model = RNNModel(model=choosen_model,input_chunk_length= chunk_length, hidden_dim = 256 ,n_rnn_layers=1, n_epochs=n_epochs, random_state=0) \n",
    "\n",
    "#fit the model\n",
    "\n",
    "\n",
    "model.fit(train)\n",
    "prediction = model.predict(len(val))\n",
    "\n",
    "\n",
    "import matplotlib.pyplot as plt\n",
    "series.plot(label='actual')\n",
    "prediction.plot(label='forecast', lw=3)\n",
    "plt.legend()\n",
    "\n"
   ]
  }
 ],
 "metadata": {
  "kernelspec": {
   "display_name": "Python 3",
   "language": "python",
   "name": "python3"
  },
  "language_info": {
   "codemirror_mode": {
    "name": "ipython",
    "version": 3
   },
   "file_extension": ".py",
   "mimetype": "text/x-python",
   "name": "python",
   "nbconvert_exporter": "python",
   "pygments_lexer": "ipython3",
   "version": "3.12.2"
  }
 },
 "nbformat": 4,
 "nbformat_minor": 2
}
