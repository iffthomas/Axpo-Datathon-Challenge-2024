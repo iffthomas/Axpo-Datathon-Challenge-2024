{
 "cells": [
  {
   "cell_type": "code",
   "execution_count": null,
   "metadata": {},
   "outputs": [],
   "source": []
  },
  {
   "cell_type": "code",
   "execution_count": null,
   "metadata": {},
   "outputs": [],
   "source": []
  },
  {
   "cell_type": "code",
   "execution_count": null,
   "metadata": {},
   "outputs": [],
   "source": []
  },
  {
   "cell_type": "markdown",
   "metadata": {},
   "source": [
    "# Simple Model Training with Darts Library"
   ]
  },
  {
   "cell_type": "code",
   "execution_count": 2,
   "metadata": {},
   "outputs": [
    {
     "name": "stderr",
     "output_type": "stream",
     "text": [
      "c:\\Users\\thoma\\AppData\\Local\\Programs\\Python\\Python312\\Lib\\site-packages\\statsforecast\\core.py:26: TqdmWarning: IProgress not found. Please update jupyter and ipywidgets. See https://ipywidgets.readthedocs.io/en/stable/user_install.html\n",
      "  from tqdm.autonotebook import tqdm\n"
     ]
    }
   ],
   "source": [
    "#work with darts library to create a time series forecast\n",
    "import darts\n",
    "import pandas as pd\n",
    "import wapi\n",
    "from darts.models.forecasting.rnn_model import RNNModel\n",
    "from darts import TimeSeries\n",
    "\n"
   ]
  },
  {
   "cell_type": "code",
   "execution_count": 3,
   "metadata": {},
   "outputs": [],
   "source": [
    "def assemble_dataframe(time_start, time_end, config_file_path='../apiconfig.ini'):\n",
    "    curve_names = [\n",
    "        \"pro ch spv mwh/h cet min15 a\",\n",
    "        \"pro ch spv mwh/h cet min15 n\",\n",
    "        \"pro it spv mwh/h cet min15 a\",\n",
    "        \"pro fr spv mwh/h cet min15 a\",\n",
    "        \"pro de spv mwh/h cet min15 a\",\n",
    "        \"pro at spv mwh/h cet min15 a\",\n",
    "        \"cap ch spv mw cet min15 a\",\n",
    "        \"tt ch grimsel test °c cet h s\",\n",
    "        \"tt ch adelboden test °c cet h s\",\n",
    "        \"tt ch geneve test °c cet h s\",\n",
    "        \"tt ch davos test °c cet h s\",\n",
    "        \"tt ch engelberg test °c cet h s\",\n",
    "        \"tt ch bern test °c cet h s\",\n",
    "        \"tt ch lugano test °c cet h s\",\n",
    "        \"tt ch zurich test °c cet h s\",\n",
    "        \"tt ch samedan test °c cet h s\",\n",
    "        \"cc ch con ec00 % cet min15 f\",\n",
    "        \"cc ch grimsel test % cet h s\",\n",
    "        \"cc ch adelboden test % cet h s\",\n",
    "        \"cc ch geneve test % cet h s\",\n",
    "        \"cc ch davos test % cet h s\",\n",
    "        \"cc ch engelberg test % cet h s\",\n",
    "        \"cc ch bern test % cet h s\",\n",
    "        \"cc ch lugano test % cet h s\",\n",
    "        \"cc ch zurich test % cet h s\",\n",
    "        \"cc ch samedan test % cet h s\",\n",
    "    ]\n",
    "    session = wapi.Session(config_file=config_file_path)\n",
    "    ch_total_prod_curve = session.get_curve(name=curve_names[0])\n",
    "    ts = ch_total_prod_curve.get_data(data_from= time_start, data_to=time_end)\n",
    "    return ts.to_pandas()"
   ]
  },
  {
   "cell_type": "code",
   "execution_count": 4,
   "metadata": {},
   "outputs": [
    {
     "name": "stderr",
     "output_type": "stream",
     "text": [
      "c:\\Users\\thoma\\AppData\\Local\\Programs\\Python\\Python312\\Lib\\site-packages\\wapi\\util.py:135: FutureWarning: 'T' is deprecated and will be removed in a future version, please use 'min' instead.\n",
      "  return res.asfreq(self._map_freq(self.frequency))\n"
     ]
    }
   ],
   "source": [
    "df = assemble_dataframe('2015-01-01', '2022-01-01')\n"
   ]
  },
  {
   "cell_type": "code",
   "execution_count": 5,
   "metadata": {},
   "outputs": [],
   "source": [
    "data = pd.DataFrame({\n",
    "    'pro ch spv mwh/h cet min15 a': df.values\n",
    "}, index=df.index)\n",
    "\n",
    "#\n"
   ]
  },
  {
   "cell_type": "code",
   "execution_count": 17,
   "metadata": {},
   "outputs": [],
   "source": [
    "data = pd.DataFrame({\n",
    "    'datetime': df.index,\n",
    "    'pro ch spv mwh/h cet min15 a': df.values\n",
    "})\n",
    "\n",
    "data['datetime'] = data['datetime'].dt.tz_localize(None)"
   ]
  },
  {
   "cell_type": "code",
   "execution_count": 19,
   "metadata": {},
   "outputs": [
    {
     "data": {
      "text/html": [
       "<div>\n",
       "<style scoped>\n",
       "    .dataframe tbody tr th:only-of-type {\n",
       "        vertical-align: middle;\n",
       "    }\n",
       "\n",
       "    .dataframe tbody tr th {\n",
       "        vertical-align: top;\n",
       "    }\n",
       "\n",
       "    .dataframe thead th {\n",
       "        text-align: right;\n",
       "    }\n",
       "</style>\n",
       "<table border=\"1\" class=\"dataframe\">\n",
       "  <thead>\n",
       "    <tr style=\"text-align: right;\">\n",
       "      <th></th>\n",
       "      <th>datetime</th>\n",
       "      <th>pro ch spv mwh/h cet min15 a</th>\n",
       "    </tr>\n",
       "    <tr>\n",
       "      <th>time</th>\n",
       "      <th></th>\n",
       "      <th></th>\n",
       "    </tr>\n",
       "  </thead>\n",
       "  <tbody>\n",
       "    <tr>\n",
       "      <th>0</th>\n",
       "      <td>2015-01-01 00:00:00</td>\n",
       "      <td>0.0</td>\n",
       "    </tr>\n",
       "    <tr>\n",
       "      <th>1</th>\n",
       "      <td>2015-01-01 00:15:00</td>\n",
       "      <td>0.0</td>\n",
       "    </tr>\n",
       "    <tr>\n",
       "      <th>2</th>\n",
       "      <td>2015-01-01 00:30:00</td>\n",
       "      <td>0.0</td>\n",
       "    </tr>\n",
       "    <tr>\n",
       "      <th>3</th>\n",
       "      <td>2015-01-01 00:45:00</td>\n",
       "      <td>0.0</td>\n",
       "    </tr>\n",
       "    <tr>\n",
       "      <th>4</th>\n",
       "      <td>2015-01-01 01:00:00</td>\n",
       "      <td>0.0</td>\n",
       "    </tr>\n",
       "    <tr>\n",
       "      <th>...</th>\n",
       "      <td>...</td>\n",
       "      <td>...</td>\n",
       "    </tr>\n",
       "    <tr>\n",
       "      <th>245467</th>\n",
       "      <td>2021-12-31 22:45:00</td>\n",
       "      <td>0.0</td>\n",
       "    </tr>\n",
       "    <tr>\n",
       "      <th>245468</th>\n",
       "      <td>2021-12-31 23:00:00</td>\n",
       "      <td>0.0</td>\n",
       "    </tr>\n",
       "    <tr>\n",
       "      <th>245469</th>\n",
       "      <td>2021-12-31 23:15:00</td>\n",
       "      <td>0.0</td>\n",
       "    </tr>\n",
       "    <tr>\n",
       "      <th>245470</th>\n",
       "      <td>2021-12-31 23:30:00</td>\n",
       "      <td>0.0</td>\n",
       "    </tr>\n",
       "    <tr>\n",
       "      <th>245471</th>\n",
       "      <td>2021-12-31 23:45:00</td>\n",
       "      <td>0.0</td>\n",
       "    </tr>\n",
       "  </tbody>\n",
       "</table>\n",
       "<p>245472 rows × 2 columns</p>\n",
       "</div>"
      ],
      "text/plain": [
       "                  datetime  pro ch spv mwh/h cet min15 a\n",
       "time                                                    \n",
       "0      2015-01-01 00:00:00                           0.0\n",
       "1      2015-01-01 00:15:00                           0.0\n",
       "2      2015-01-01 00:30:00                           0.0\n",
       "3      2015-01-01 00:45:00                           0.0\n",
       "4      2015-01-01 01:00:00                           0.0\n",
       "...                    ...                           ...\n",
       "245467 2021-12-31 22:45:00                           0.0\n",
       "245468 2021-12-31 23:00:00                           0.0\n",
       "245469 2021-12-31 23:15:00                           0.0\n",
       "245470 2021-12-31 23:30:00                           0.0\n",
       "245471 2021-12-31 23:45:00                           0.0\n",
       "\n",
       "[245472 rows x 2 columns]"
      ]
     },
     "execution_count": 19,
     "metadata": {},
     "output_type": "execute_result"
    }
   ],
   "source": [
    "#make series to dataframe\n",
    "data"
   ]
  },
  {
   "cell_type": "code",
   "execution_count": 14,
   "metadata": {},
   "outputs": [],
   "source": [
    "from darts import TimeSeries"
   ]
  },
  {
   "cell_type": "code",
   "execution_count": 15,
   "metadata": {},
   "outputs": [
    {
     "data": {
      "text/plain": [
       "darts.timeseries.TimeSeries"
      ]
     },
     "execution_count": 15,
     "metadata": {},
     "output_type": "execute_result"
    }
   ],
   "source": [
    "series = TimeSeries.from_dataframe(df, )"
   ]
  },
  {
   "cell_type": "code",
   "execution_count": null,
   "metadata": {},
   "outputs": [],
   "source": [
    "#select the training and validation data as 20% of the data\n",
    "train, val = series.split_after_fraction(0.8)\n",
    "\n",
    "\n",
    "#types = [\"LSTM\", \"GRU\", \"RNN\"] available models\n",
    "choosen_model = \"LSTM\"\n",
    "chunk_length = 10\n",
    "hidden_dim = 256\n",
    "n_epochs = 100\n",
    "\n",
    "#rnn model \n",
    "model = RNNModel(model=choosen_model,input_chunk_length= chunk_length, hidden_dim = 256 ,n_rnn_layers=1, n_epochs=n_epochs, random_state=0) \n",
    "\n",
    "#fit the model\n",
    "\n",
    "\n",
    "model.fit(train)\n",
    "prediction = model.predict(len(val))\n",
    "\n",
    "\n",
    "import matplotlib.pyplot as plt\n",
    "series.plot(label='actual')\n",
    "prediction.plot(label='forecast', lw=3)\n",
    "plt.legend()"
   ]
  },
  {
   "cell_type": "code",
   "execution_count": null,
   "metadata": {},
   "outputs": [],
   "source": [
    "from darts.models"
   ]
  }
 ],
 "metadata": {
  "kernelspec": {
   "display_name": "Python 3",
   "language": "python",
   "name": "python3"
  },
  "language_info": {
   "codemirror_mode": {
    "name": "ipython",
    "version": 3
   },
   "file_extension": ".py",
   "mimetype": "text/x-python",
   "name": "python",
   "nbconvert_exporter": "python",
   "pygments_lexer": "ipython3",
   "version": "3.12.2"
  }
 },
 "nbformat": 4,
 "nbformat_minor": 2
}
